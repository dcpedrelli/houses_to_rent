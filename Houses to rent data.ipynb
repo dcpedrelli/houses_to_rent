{
 "cells": [
  {
   "cell_type": "markdown",
   "metadata": {},
   "source": [
    "# Houses to rent in Brazil\n",
    "### Author: Danilo Pedrelli"
   ]
  },
  {
   "cell_type": "markdown",
   "metadata": {},
   "source": [
    "## Table of Contents\n",
    "\n",
    "1. [Statement of the problem](#problem)\n",
    "1. [Description of the Data](#description)\n",
    "1. [Importing Libraries](#lib)\n",
    "1. [Importing Data](#data)\n",
    "1. [Exploring Data](#explore)\n",
    "    1. [Statistical Description](#stats)\n",
    "    1. [Analysis of the outliers](#outliers)\n",
    "    1. [Visualizing Data](#visualize)\n",
    "1. [Drawing Conclusions](#conclusions)"
   ]
  },
  {
   "cell_type": "markdown",
   "metadata": {},
   "source": [
    "<a id='problem'></a>\n",
    "\n",
    "## Statement of the Problem"
   ]
  },
  {
   "cell_type": "markdown",
   "metadata": {},
   "source": [
    "__Project Summary__: Home is a place where we stay after work, to relax, rest, have fun, and to feel safe, specially during the coronavirus outbreak. Therefore, choosing a house that can afford the best to us is extremely necessary. However, most of us have a limited budget to spend on renting, and knowing to evaluate the best options that fit in our pocket is really important.\n",
    "\n",
    "In this project, we intend to give an overview of the best places to rent according to the dataset provided at:\n",
    "\n",
    "https://www.kaggle.com/rubenssjr/brasilian-houses-to-rent\n",
    "\n",
    "__Practice Skills__:\n",
    "\n",
    "- Python\n",
    "\n",
    "- Exploratory Data Analysis"
   ]
  },
  {
   "cell_type": "markdown",
   "metadata": {},
   "source": [
    "<a id='problem'></a>\n",
    "\n",
    "## Description of the Data"
   ]
  },
  {
   "cell_type": "markdown",
   "metadata": {},
   "source": [
    "The data dictionary is given by:\n",
    "\n",
    "__city__ - city of the property;\n",
    "\n",
    "__area__ - area of the house;\n",
    "\n",
    "__rooms__ - number of the rooms in the house;\n",
    "\n",
    "__bathroom__ -  number of bathrooms;\n",
    "\n",
    "__parking spaces__ - number of parking spaces;\n",
    "\n",
    "__floor__ - the number of the floor;\n",
    "\n",
    "__animal__ - animal allowance: accept or not accept;\n",
    "\n",
    "__furniture__ -  if it is furnished or not furnished;\n",
    "\n",
    "__hoa__ - homeowners association tax;\n",
    "\n",
    "__rent amount__ - amount of the rent."
   ]
  },
  {
   "cell_type": "markdown",
   "metadata": {},
   "source": [
    "<a id=\"lib\"></a>\n",
    "\n",
    "## Importing Libraries"
   ]
  },
  {
   "cell_type": "markdown",
   "metadata": {},
   "source": [
    "The libraries we are going to use in this project are the following:"
   ]
  },
  {
   "cell_type": "code",
   "execution_count": 1,
   "metadata": {},
   "outputs": [],
   "source": [
    "import pandas as pd\n",
    "import numpy as np\n",
    "import matplotlib.pyplot as plt\n",
    "import seaborn as sns"
   ]
  },
  {
   "cell_type": "markdown",
   "metadata": {},
   "source": [
    "<a id='data'></a>\n",
    "\n",
    "## Importing Data"
   ]
  },
  {
   "cell_type": "markdown",
   "metadata": {},
   "source": [
    "Our data will be imported as *htr*. The missing values are stated as '-', so they are replaced as np.nan."
   ]
  },
  {
   "cell_type": "code",
   "execution_count": 2,
   "metadata": {},
   "outputs": [],
   "source": [
    "htr = pd.read_csv('houses_to_rent_v2.csv',na_values='-')"
   ]
  },
  {
   "cell_type": "markdown",
   "metadata": {},
   "source": [
    "<a id='explore'></a>\n",
    "\n",
    "## Exploring Data"
   ]
  },
  {
   "cell_type": "markdown",
   "metadata": {},
   "source": [
    "Information about the columns give:"
   ]
  },
  {
   "cell_type": "code",
   "execution_count": 3,
   "metadata": {
    "scrolled": true
   },
   "outputs": [
    {
     "name": "stdout",
     "output_type": "stream",
     "text": [
      "<class 'pandas.core.frame.DataFrame'>\n",
      "RangeIndex: 10692 entries, 0 to 10691\n",
      "Data columns (total 13 columns):\n",
      " #   Column               Non-Null Count  Dtype  \n",
      "---  ------               --------------  -----  \n",
      " 0   city                 10692 non-null  object \n",
      " 1   area                 10692 non-null  int64  \n",
      " 2   rooms                10692 non-null  int64  \n",
      " 3   bathroom             10692 non-null  int64  \n",
      " 4   parking spaces       10692 non-null  int64  \n",
      " 5   floor                8231 non-null   float64\n",
      " 6   animal               10692 non-null  object \n",
      " 7   furniture            10692 non-null  object \n",
      " 8   hoa (R$)             10692 non-null  int64  \n",
      " 9   rent amount (R$)     10692 non-null  int64  \n",
      " 10  property tax (R$)    10692 non-null  int64  \n",
      " 11  fire insurance (R$)  10692 non-null  int64  \n",
      " 12  total (R$)           10692 non-null  int64  \n",
      "dtypes: float64(1), int64(9), object(3)\n",
      "memory usage: 1.1+ MB\n"
     ]
    }
   ],
   "source": [
    "htr.info()"
   ]
  },
  {
   "cell_type": "markdown",
   "metadata": {},
   "source": [
    "We see that the floor columns is the only one with less values than 10692. We will fill those missing values with 0."
   ]
  },
  {
   "cell_type": "code",
   "execution_count": 4,
   "metadata": {},
   "outputs": [],
   "source": [
    "htr.fillna(0,inplace=True)"
   ]
  },
  {
   "cell_type": "markdown",
   "metadata": {},
   "source": [
    "In order to get a notion the data we use the sample method."
   ]
  },
  {
   "cell_type": "code",
   "execution_count": 5,
   "metadata": {
    "scrolled": false
   },
   "outputs": [
    {
     "data": {
      "text/html": [
       "<div>\n",
       "<style scoped>\n",
       "    .dataframe tbody tr th:only-of-type {\n",
       "        vertical-align: middle;\n",
       "    }\n",
       "\n",
       "    .dataframe tbody tr th {\n",
       "        vertical-align: top;\n",
       "    }\n",
       "\n",
       "    .dataframe thead th {\n",
       "        text-align: right;\n",
       "    }\n",
       "</style>\n",
       "<table border=\"1\" class=\"dataframe\">\n",
       "  <thead>\n",
       "    <tr style=\"text-align: right;\">\n",
       "      <th></th>\n",
       "      <th>city</th>\n",
       "      <th>area</th>\n",
       "      <th>rooms</th>\n",
       "      <th>bathroom</th>\n",
       "      <th>parking spaces</th>\n",
       "      <th>floor</th>\n",
       "      <th>animal</th>\n",
       "      <th>furniture</th>\n",
       "      <th>hoa (R$)</th>\n",
       "      <th>rent amount (R$)</th>\n",
       "      <th>property tax (R$)</th>\n",
       "      <th>fire insurance (R$)</th>\n",
       "      <th>total (R$)</th>\n",
       "    </tr>\n",
       "  </thead>\n",
       "  <tbody>\n",
       "    <tr>\n",
       "      <th>3641</th>\n",
       "      <td>São Paulo</td>\n",
       "      <td>73</td>\n",
       "      <td>2</td>\n",
       "      <td>2</td>\n",
       "      <td>1</td>\n",
       "      <td>13.0</td>\n",
       "      <td>acept</td>\n",
       "      <td>not furnished</td>\n",
       "      <td>700</td>\n",
       "      <td>1250</td>\n",
       "      <td>150</td>\n",
       "      <td>16</td>\n",
       "      <td>2116</td>\n",
       "    </tr>\n",
       "    <tr>\n",
       "      <th>9145</th>\n",
       "      <td>Porto Alegre</td>\n",
       "      <td>326</td>\n",
       "      <td>4</td>\n",
       "      <td>7</td>\n",
       "      <td>4</td>\n",
       "      <td>0.0</td>\n",
       "      <td>acept</td>\n",
       "      <td>not furnished</td>\n",
       "      <td>0</td>\n",
       "      <td>4200</td>\n",
       "      <td>184</td>\n",
       "      <td>64</td>\n",
       "      <td>4448</td>\n",
       "    </tr>\n",
       "    <tr>\n",
       "      <th>4915</th>\n",
       "      <td>Porto Alegre</td>\n",
       "      <td>40</td>\n",
       "      <td>1</td>\n",
       "      <td>1</td>\n",
       "      <td>1</td>\n",
       "      <td>0.0</td>\n",
       "      <td>acept</td>\n",
       "      <td>not furnished</td>\n",
       "      <td>0</td>\n",
       "      <td>960</td>\n",
       "      <td>15</td>\n",
       "      <td>18</td>\n",
       "      <td>993</td>\n",
       "    </tr>\n",
       "    <tr>\n",
       "      <th>1342</th>\n",
       "      <td>Porto Alegre</td>\n",
       "      <td>89</td>\n",
       "      <td>3</td>\n",
       "      <td>1</td>\n",
       "      <td>0</td>\n",
       "      <td>3.0</td>\n",
       "      <td>acept</td>\n",
       "      <td>not furnished</td>\n",
       "      <td>631</td>\n",
       "      <td>1100</td>\n",
       "      <td>85</td>\n",
       "      <td>17</td>\n",
       "      <td>1833</td>\n",
       "    </tr>\n",
       "    <tr>\n",
       "      <th>2259</th>\n",
       "      <td>Belo Horizonte</td>\n",
       "      <td>197</td>\n",
       "      <td>4</td>\n",
       "      <td>2</td>\n",
       "      <td>3</td>\n",
       "      <td>3.0</td>\n",
       "      <td>acept</td>\n",
       "      <td>not furnished</td>\n",
       "      <td>850</td>\n",
       "      <td>4250</td>\n",
       "      <td>400</td>\n",
       "      <td>57</td>\n",
       "      <td>5557</td>\n",
       "    </tr>\n",
       "    <tr>\n",
       "      <th>5738</th>\n",
       "      <td>São Paulo</td>\n",
       "      <td>370</td>\n",
       "      <td>4</td>\n",
       "      <td>5</td>\n",
       "      <td>5</td>\n",
       "      <td>17.0</td>\n",
       "      <td>acept</td>\n",
       "      <td>furnished</td>\n",
       "      <td>4800</td>\n",
       "      <td>5000</td>\n",
       "      <td>1992</td>\n",
       "      <td>64</td>\n",
       "      <td>11860</td>\n",
       "    </tr>\n",
       "    <tr>\n",
       "      <th>434</th>\n",
       "      <td>Porto Alegre</td>\n",
       "      <td>60</td>\n",
       "      <td>2</td>\n",
       "      <td>1</td>\n",
       "      <td>1</td>\n",
       "      <td>3.0</td>\n",
       "      <td>acept</td>\n",
       "      <td>not furnished</td>\n",
       "      <td>250</td>\n",
       "      <td>800</td>\n",
       "      <td>22</td>\n",
       "      <td>12</td>\n",
       "      <td>1084</td>\n",
       "    </tr>\n",
       "    <tr>\n",
       "      <th>4145</th>\n",
       "      <td>São Paulo</td>\n",
       "      <td>140</td>\n",
       "      <td>3</td>\n",
       "      <td>3</td>\n",
       "      <td>2</td>\n",
       "      <td>2.0</td>\n",
       "      <td>acept</td>\n",
       "      <td>not furnished</td>\n",
       "      <td>1300</td>\n",
       "      <td>2800</td>\n",
       "      <td>292</td>\n",
       "      <td>36</td>\n",
       "      <td>4428</td>\n",
       "    </tr>\n",
       "    <tr>\n",
       "      <th>3555</th>\n",
       "      <td>Rio de Janeiro</td>\n",
       "      <td>70</td>\n",
       "      <td>2</td>\n",
       "      <td>2</td>\n",
       "      <td>2</td>\n",
       "      <td>3.0</td>\n",
       "      <td>acept</td>\n",
       "      <td>not furnished</td>\n",
       "      <td>900</td>\n",
       "      <td>1700</td>\n",
       "      <td>265</td>\n",
       "      <td>22</td>\n",
       "      <td>2887</td>\n",
       "    </tr>\n",
       "    <tr>\n",
       "      <th>6223</th>\n",
       "      <td>São Paulo</td>\n",
       "      <td>321</td>\n",
       "      <td>3</td>\n",
       "      <td>5</td>\n",
       "      <td>2</td>\n",
       "      <td>0.0</td>\n",
       "      <td>acept</td>\n",
       "      <td>furnished</td>\n",
       "      <td>0</td>\n",
       "      <td>7318</td>\n",
       "      <td>1072</td>\n",
       "      <td>111</td>\n",
       "      <td>8501</td>\n",
       "    </tr>\n",
       "  </tbody>\n",
       "</table>\n",
       "</div>"
      ],
      "text/plain": [
       "                city  area  rooms  bathroom  parking spaces  floor animal  \\\n",
       "3641       São Paulo    73      2         2               1   13.0  acept   \n",
       "9145    Porto Alegre   326      4         7               4    0.0  acept   \n",
       "4915    Porto Alegre    40      1         1               1    0.0  acept   \n",
       "1342    Porto Alegre    89      3         1               0    3.0  acept   \n",
       "2259  Belo Horizonte   197      4         2               3    3.0  acept   \n",
       "5738       São Paulo   370      4         5               5   17.0  acept   \n",
       "434     Porto Alegre    60      2         1               1    3.0  acept   \n",
       "4145       São Paulo   140      3         3               2    2.0  acept   \n",
       "3555  Rio de Janeiro    70      2         2               2    3.0  acept   \n",
       "6223       São Paulo   321      3         5               2    0.0  acept   \n",
       "\n",
       "          furniture  hoa (R$)  rent amount (R$)  property tax (R$)  \\\n",
       "3641  not furnished       700              1250                150   \n",
       "9145  not furnished         0              4200                184   \n",
       "4915  not furnished         0               960                 15   \n",
       "1342  not furnished       631              1100                 85   \n",
       "2259  not furnished       850              4250                400   \n",
       "5738      furnished      4800              5000               1992   \n",
       "434   not furnished       250               800                 22   \n",
       "4145  not furnished      1300              2800                292   \n",
       "3555  not furnished       900              1700                265   \n",
       "6223      furnished         0              7318               1072   \n",
       "\n",
       "      fire insurance (R$)  total (R$)  \n",
       "3641                   16        2116  \n",
       "9145                   64        4448  \n",
       "4915                   18         993  \n",
       "1342                   17        1833  \n",
       "2259                   57        5557  \n",
       "5738                   64       11860  \n",
       "434                    12        1084  \n",
       "4145                   36        4428  \n",
       "3555                   22        2887  \n",
       "6223                  111        8501  "
      ]
     },
     "execution_count": 5,
     "metadata": {},
     "output_type": "execute_result"
    }
   ],
   "source": [
    "htr.sample(10)"
   ]
  },
  {
   "cell_type": "markdown",
   "metadata": {},
   "source": [
    "<a id='stats'></a>\n",
    "\n",
    "### Statistical Description"
   ]
  },
  {
   "cell_type": "markdown",
   "metadata": {},
   "source": [
    "To visualize mean, standard deviation, maximum, minimum, etc, of the numerical columns, we can use the describe method. As an example, lets take the city of São Paulo:"
   ]
  },
  {
   "cell_type": "markdown",
   "metadata": {},
   "source": [
    "### São Paulo"
   ]
  },
  {
   "cell_type": "code",
   "execution_count": 6,
   "metadata": {},
   "outputs": [
    {
     "data": {
      "text/html": [
       "<div>\n",
       "<style scoped>\n",
       "    .dataframe tbody tr th:only-of-type {\n",
       "        vertical-align: middle;\n",
       "    }\n",
       "\n",
       "    .dataframe tbody tr th {\n",
       "        vertical-align: top;\n",
       "    }\n",
       "\n",
       "    .dataframe thead th {\n",
       "        text-align: right;\n",
       "    }\n",
       "</style>\n",
       "<table border=\"1\" class=\"dataframe\">\n",
       "  <thead>\n",
       "    <tr style=\"text-align: right;\">\n",
       "      <th></th>\n",
       "      <th>area</th>\n",
       "      <th>rooms</th>\n",
       "      <th>bathroom</th>\n",
       "      <th>parking spaces</th>\n",
       "      <th>floor</th>\n",
       "      <th>hoa (R$)</th>\n",
       "      <th>rent amount (R$)</th>\n",
       "      <th>property tax (R$)</th>\n",
       "      <th>fire insurance (R$)</th>\n",
       "      <th>total (R$)</th>\n",
       "    </tr>\n",
       "  </thead>\n",
       "  <tbody>\n",
       "    <tr>\n",
       "      <th>count</th>\n",
       "      <td>5887.000000</td>\n",
       "      <td>5887.000000</td>\n",
       "      <td>5887.000000</td>\n",
       "      <td>5887.000000</td>\n",
       "      <td>5887.000000</td>\n",
       "      <td>5887.000000</td>\n",
       "      <td>5887.000000</td>\n",
       "      <td>5887.000000</td>\n",
       "      <td>5887.000000</td>\n",
       "      <td>5887.000000</td>\n",
       "    </tr>\n",
       "    <tr>\n",
       "      <th>mean</th>\n",
       "      <td>158.899439</td>\n",
       "      <td>2.558859</td>\n",
       "      <td>2.467641</td>\n",
       "      <td>1.877527</td>\n",
       "      <td>5.626465</td>\n",
       "      <td>1169.627994</td>\n",
       "      <td>4652.793783</td>\n",
       "      <td>495.701716</td>\n",
       "      <td>62.428911</td>\n",
       "      <td>6380.831833</td>\n",
       "    </tr>\n",
       "    <tr>\n",
       "      <th>std</th>\n",
       "      <td>347.474169</td>\n",
       "      <td>1.166365</td>\n",
       "      <td>1.503060</td>\n",
       "      <td>1.687973</td>\n",
       "      <td>6.056361</td>\n",
       "      <td>4076.461180</td>\n",
       "      <td>3634.612007</td>\n",
       "      <td>4153.618928</td>\n",
       "      <td>50.073429</td>\n",
       "      <td>7541.320897</td>\n",
       "    </tr>\n",
       "    <tr>\n",
       "      <th>min</th>\n",
       "      <td>11.000000</td>\n",
       "      <td>1.000000</td>\n",
       "      <td>1.000000</td>\n",
       "      <td>0.000000</td>\n",
       "      <td>0.000000</td>\n",
       "      <td>0.000000</td>\n",
       "      <td>500.000000</td>\n",
       "      <td>0.000000</td>\n",
       "      <td>4.000000</td>\n",
       "      <td>508.000000</td>\n",
       "    </tr>\n",
       "    <tr>\n",
       "      <th>25%</th>\n",
       "      <td>59.000000</td>\n",
       "      <td>2.000000</td>\n",
       "      <td>1.000000</td>\n",
       "      <td>1.000000</td>\n",
       "      <td>0.000000</td>\n",
       "      <td>0.000000</td>\n",
       "      <td>2000.000000</td>\n",
       "      <td>37.000000</td>\n",
       "      <td>26.000000</td>\n",
       "      <td>2631.000000</td>\n",
       "    </tr>\n",
       "    <tr>\n",
       "      <th>50%</th>\n",
       "      <td>106.000000</td>\n",
       "      <td>3.000000</td>\n",
       "      <td>2.000000</td>\n",
       "      <td>1.000000</td>\n",
       "      <td>4.000000</td>\n",
       "      <td>665.000000</td>\n",
       "      <td>3400.000000</td>\n",
       "      <td>170.000000</td>\n",
       "      <td>45.000000</td>\n",
       "      <td>4596.000000</td>\n",
       "    </tr>\n",
       "    <tr>\n",
       "      <th>75%</th>\n",
       "      <td>212.000000</td>\n",
       "      <td>3.000000</td>\n",
       "      <td>4.000000</td>\n",
       "      <td>3.000000</td>\n",
       "      <td>9.000000</td>\n",
       "      <td>1608.500000</td>\n",
       "      <td>6000.000000</td>\n",
       "      <td>550.000000</td>\n",
       "      <td>83.000000</td>\n",
       "      <td>8591.000000</td>\n",
       "    </tr>\n",
       "    <tr>\n",
       "      <th>max</th>\n",
       "      <td>24606.000000</td>\n",
       "      <td>10.000000</td>\n",
       "      <td>10.000000</td>\n",
       "      <td>12.000000</td>\n",
       "      <td>46.000000</td>\n",
       "      <td>220000.000000</td>\n",
       "      <td>45000.000000</td>\n",
       "      <td>313700.000000</td>\n",
       "      <td>677.000000</td>\n",
       "      <td>316900.000000</td>\n",
       "    </tr>\n",
       "  </tbody>\n",
       "</table>\n",
       "</div>"
      ],
      "text/plain": [
       "               area        rooms     bathroom  parking spaces        floor  \\\n",
       "count   5887.000000  5887.000000  5887.000000     5887.000000  5887.000000   \n",
       "mean     158.899439     2.558859     2.467641        1.877527     5.626465   \n",
       "std      347.474169     1.166365     1.503060        1.687973     6.056361   \n",
       "min       11.000000     1.000000     1.000000        0.000000     0.000000   \n",
       "25%       59.000000     2.000000     1.000000        1.000000     0.000000   \n",
       "50%      106.000000     3.000000     2.000000        1.000000     4.000000   \n",
       "75%      212.000000     3.000000     4.000000        3.000000     9.000000   \n",
       "max    24606.000000    10.000000    10.000000       12.000000    46.000000   \n",
       "\n",
       "            hoa (R$)  rent amount (R$)  property tax (R$)  \\\n",
       "count    5887.000000       5887.000000        5887.000000   \n",
       "mean     1169.627994       4652.793783         495.701716   \n",
       "std      4076.461180       3634.612007        4153.618928   \n",
       "min         0.000000        500.000000           0.000000   \n",
       "25%         0.000000       2000.000000          37.000000   \n",
       "50%       665.000000       3400.000000         170.000000   \n",
       "75%      1608.500000       6000.000000         550.000000   \n",
       "max    220000.000000      45000.000000      313700.000000   \n",
       "\n",
       "       fire insurance (R$)     total (R$)  \n",
       "count          5887.000000    5887.000000  \n",
       "mean             62.428911    6380.831833  \n",
       "std              50.073429    7541.320897  \n",
       "min               4.000000     508.000000  \n",
       "25%              26.000000    2631.000000  \n",
       "50%              45.000000    4596.000000  \n",
       "75%              83.000000    8591.000000  \n",
       "max             677.000000  316900.000000  "
      ]
     },
     "execution_count": 6,
     "metadata": {},
     "output_type": "execute_result"
    }
   ],
   "source": [
    "htr[htr.city=='São Paulo'].describe()"
   ]
  },
  {
   "cell_type": "markdown",
   "metadata": {},
   "source": [
    "- __area:__ here we observe that the average area is around 160 m². This is a bit high, as can be seen if we compare to the minimum. Such differece is clealy exeplified by the high standard deviation of 347 m².\n",
    "- __rooms:__ The mean number of rooms is quite normal, as we can see from the difference between the minimum (1 room), and the maximum (10 rooms)\n",
    "- __bathroom:__ Bathroom minimum and maximum are the same of the numer of rooms, however, their mean differs slighly, showing that, on average, places have more rooms than bathrooms.\n",
    "- __parking spaces:__ Parking places are quite unusual, since the mean is lower than 2, but the maximum is even higher than the number of rooms. This seems have direct correlation with the price of places, which will be investigated later.\n",
    "- __floor:__ The floor mean number is around 5, whith the miminum zero, which mean houses, and therefore, are a good comparison for checking which places are most expensive, houses or apartments.\n",
    "- __hoa:__ The homeworkers association tax is something that can have a big impact on the total rental price. We see that some places have no such tax, whereas the maximum is R\\\\$ 220.000,00, which seems to be an outlier.\n",
    "- __rent amount:__ The minimum rent amount is R\\\\$ 500,00 and the average is R\\\\$ 4.652,00. The maximum price is changing too much the average, taking the 75\\% as the maximmum may be a good approach for proper evaluation.\n",
    "- __property tax:__ The property tax is also not always present, and can also contribute expressively to the total price.\n",
    "- __fire insurance:__ Interestingly, the fire insurance is present in all places, and ranges from R\\\\$ 4,00 to R\\\\$ 600,00. This can also show a correlation between expensive and cheap places.\n",
    "- __total:__ The total will consider all the previous features, let's check which of them affect most it."
   ]
  },
  {
   "cell_type": "markdown",
   "metadata": {},
   "source": [
    "As mentioned above, we can observe the high possibility of having outliers. Therefore, next section is devoted to removing it."
   ]
  },
  {
   "cell_type": "markdown",
   "metadata": {},
   "source": [
    "<a id='outliers'></a>\n",
    "\n",
    "### Analysis of the outliers"
   ]
  },
  {
   "cell_type": "markdown",
   "metadata": {},
   "source": [
    "In order to investigate the existence of  outliers in Belo Horizonte, we will compute the box plots for each feature. After a few tests, the best condition we found to put on the data, such that its characteristics won't change much, is to assum the total lower than R\\\\$ 10.000,00 and the area lower than 600 m²."
   ]
  },
  {
   "cell_type": "code",
   "execution_count": 7,
   "metadata": {},
   "outputs": [],
   "source": [
    "htr_cond = htr[(htr['total (R$)']<10000) & (htr['area']<600)].copy()"
   ]
  },
  {
   "cell_type": "markdown",
   "metadata": {},
   "source": [
    "The boxplots give:"
   ]
  },
  {
   "cell_type": "code",
   "execution_count": 8,
   "metadata": {},
   "outputs": [
    {
     "data": {
      "text/plain": [
       "<matplotlib.axes._subplots.AxesSubplot at 0x1885039d848>"
      ]
     },
     "execution_count": 8,
     "metadata": {},
     "output_type": "execute_result"
    },
    {
     "data": {
      "image/png": "[encoded data removed]",
      "text/plain": [
       "<Figure size 1080x720 with 6 Axes>"
      ]
     },
     "metadata": {
      "needs_background": "light"
     },
     "output_type": "display_data"
    }
   ],
   "source": [
    "fig, (ax0, ax1) = plt.subplots(nrows = 2, ncols=3, sharey = True, figsize = (15,10))\n",
    "sns.boxplot(x='hoa (R$)',y='city',data=htr_cond,ax=ax0[0])\n",
    "sns.boxplot(x='rent amount (R$)',y='city',data=htr_cond,ax=ax0[1])\n",
    "sns.boxplot(x='property tax (R$)',y='city',data=htr_cond,ax=ax0[2])\n",
    "sns.boxplot(x='fire insurance (R$)',y='city',data=htr_cond,ax=ax1[0])\n",
    "sns.boxplot(x='total (R$)',y='city',data=htr_cond,ax=ax1[1])\n",
    "sns.boxplot(x='area',y='city',data=htr_cond,ax=ax1[2])"
   ]
  },
  {
   "cell_type": "markdown",
   "metadata": {},
   "source": [
    "<a id='visualize'></a>\n",
    "\n",
    "## Visualizing Data"
   ]
  },
  {
   "cell_type": "markdown",
   "metadata": {},
   "source": [
    "Now, we need to understand the data for each city. Therefore, in what follows we plot the hoa, rent amount, property tax, fire insurance, total and area for the cities of São Paulo, Porto Alegre, Rio de Janeiro, Campinas and Belo Horizonte."
   ]
  },
  {
   "cell_type": "code",
   "execution_count": 9,
   "metadata": {},
   "outputs": [
    {
     "data": {
      "text/plain": [
       "<matplotlib.axes._subplots.AxesSubplot at 0x1885078d188>"
      ]
     },
     "execution_count": 9,
     "metadata": {},
     "output_type": "execute_result"
    },
    {
     "data": {
      "image/png": "[encoded data removed]",
      "text/plain": [
       "<Figure size 1080x720 with 6 Axes>"
      ]
     },
     "metadata": {
      "needs_background": "light"
     },
     "output_type": "display_data"
    }
   ],
   "source": [
    "fig, (ax0, ax1) = plt.subplots(nrows = 2, ncols=3, sharey = True, figsize = (15,10))\n",
    "sns.barplot(x='hoa (R$)',y='city',data=htr_cond,ax=ax0[0])\n",
    "sns.barplot(x='rent amount (R$)',y='city',data=htr_cond,ax=ax0[1])\n",
    "sns.barplot(x='property tax (R$)',y='city',data=htr_cond,ax=ax0[2])\n",
    "sns.barplot(x='fire insurance (R$)',y='city',data=htr_cond,ax=ax1[0])\n",
    "sns.barplot(x='total (R$)',y='city',data=htr_cond,ax=ax1[1])\n",
    "sns.barplot(x='area',y='city',data=htr_cond,ax=ax1[2])"
   ]
  },
  {
   "cell_type": "markdown",
   "metadata": {},
   "source": [
    "Lets analyze each city individualy:\n",
    "\n",
    "### São Paulo\n",
    "\n",
    "- __hoa:__ The homeworkers association tax is the second higher on average, but it is close to Rio de Janeiro.\n",
    "\n",
    "- __rent amount:__ The rent amount is the highest in São Paulo, what is expected, given the high population of São Paulo.\n",
    "\n",
    "- __property tax:__ Property tax is very high too.\n",
    "\n",
    "- __fire insurance:__ Fire insurance is the highest in São Paulo too. Curiously, comparing it to the rent amount, we observe that the panels are quite similar, suggesting that the fire amount is probably a percentage of the rent amount.\n",
    "\n",
    "- __total:__ The total in Sâo Paulo is the highest, which is in agreement with the previous features.\n",
    "\n",
    "- __area:__ The area of the apartments in São Paulo is the second higher, but since the total is also high in São Paulo, we would better understand this feature if we could compute the m² price.\n",
    "\n",
    "### Porto Alegre\n",
    "\n",
    "- __hoa:__ In Porto Alegre, the hoa is the lowest one, but comparable to Belo Horizonte.\n",
    "\n",
    "- __rent amount:__ The rent amount is only greater than in Campinas.\n",
    "\n",
    "- __property tax:__ The property tax has also a low price compared to the other cities.\n",
    "\n",
    "- __fire insurance:__ The fire insurance follows a pattern similar to the  rent amount, as mentioned.\n",
    "\n",
    "- __total:__ The total is also in agreement with the previous features. Putting Porto Alegre with the cheaps places to rent.\n",
    "\n",
    "- __area:__ Although the prices to rent a house in Porto Alegre are the lowest ones, the area is not the lowest, showing that the price of each m² may not be that low.\n",
    "\n",
    "### Rio de Janeiro\n",
    "\n",
    "- __hoa:__ Rio de Janeiro has the highest hoa. Which is a indicative that living there must be expensive.\n",
    "\n",
    "- __rent amount:__ Rio de Janeiro has the third highest rent amount,but it is very close to Belo Horizonte, the second.\n",
    "\n",
    "- __property tax:__ Third most expensive.\n",
    "\n",
    "- __fire insurance:__ Third most expensive.\n",
    "\n",
    "- __total:__ Second most expensive. Which is propably related to the tourism there.\n",
    "\n",
    "- __area:__ The average area of houses in Rio de Janeiro is the smallest one, showing that the m² there must be the highest.\n",
    "\n",
    "### Campinas\n",
    "\n",
    "- __hoa:__ Campinas has the third highest hoa compared to the others.\n",
    "\n",
    "- __rent amount:__ The rent amount is quite equivalent to Porto Alegre, which could be related to the size of the cities.\n",
    "\n",
    "- __property tax:__ Here we see that the property tax in Campinas is not that high too.\n",
    "\n",
    "- __fire insurance:__ Fire insurance is correspondent to the rent amount, as mentioned before.\n",
    "\n",
    "- __total:__ In the toal, Campinas stays in the third place, but very close to Porto Alegre.\n",
    "\n",
    "- __area:__ The area of the houses in Campinas is the third highest, showing that the m² there is probably cheaper.\n",
    "\n",
    "### Belo Horizonte\n",
    "\n",
    "- __hoa:__ The hoa in Belo Horizonte is quite close almost equal to Porto Alegre.\n",
    "\n",
    "- __rent amount:__ The rent amount in Belo Horizonte is the second highest, but very close to Rio de Janeiro.\n",
    "\n",
    "- __property tax:__ The property tax there is the second highest.\n",
    "\n",
    "- __fire insurance:__ Fire insurance is the second highest.\n",
    "\n",
    "- __total:__ Except for the hoa, Belo Horizonte has the second highest price in all the previous features, however, inthe total, Belo Horizonte is the third highest place. Ths, the hoa had a huge impact.\n",
    "\n",
    "- __area:__ The area of the houses there are the highest ones."
   ]
  },
  {
   "cell_type": "markdown",
   "metadata": {},
   "source": [
    "## Feature Engineering - m² price column"
   ]
  },
  {
   "cell_type": "markdown",
   "metadata": {},
   "source": [
    "As mentioned, the price of each m² is an important value to take a decision when renting a house. We do it by dividing each element of the total column by each one of the area column."
   ]
  },
  {
   "cell_type": "code",
   "execution_count": 14,
   "metadata": {},
   "outputs": [],
   "source": [
    "for lab, row in htr_cond.iterrows():\n",
    "    htr_cond.loc[lab,'m² price (R$)']=htr_cond.loc[lab,'total (R$)']/htr_cond.loc[lab,'area']"
   ]
  },
  {
   "cell_type": "code",
   "execution_count": 15,
   "metadata": {
    "scrolled": true
   },
   "outputs": [
    {
     "data": {
      "text/html": [
       "<div>\n",
       "<style scoped>\n",
       "    .dataframe tbody tr th:only-of-type {\n",
       "        vertical-align: middle;\n",
       "    }\n",
       "\n",
       "    .dataframe tbody tr th {\n",
       "        vertical-align: top;\n",
       "    }\n",
       "\n",
       "    .dataframe thead th {\n",
       "        text-align: right;\n",
       "    }\n",
       "</style>\n",
       "<table border=\"1\" class=\"dataframe\">\n",
       "  <thead>\n",
       "    <tr style=\"text-align: right;\">\n",
       "      <th></th>\n",
       "      <th>city</th>\n",
       "      <th>area</th>\n",
       "      <th>rooms</th>\n",
       "      <th>bathroom</th>\n",
       "      <th>parking spaces</th>\n",
       "      <th>floor</th>\n",
       "      <th>animal</th>\n",
       "      <th>furniture</th>\n",
       "      <th>hoa (R$)</th>\n",
       "      <th>rent amount (R$)</th>\n",
       "      <th>property tax (R$)</th>\n",
       "      <th>fire insurance (R$)</th>\n",
       "      <th>total (R$)</th>\n",
       "      <th>m² price (R$)</th>\n",
       "    </tr>\n",
       "  </thead>\n",
       "  <tbody>\n",
       "    <tr>\n",
       "      <th>5448</th>\n",
       "      <td>São Paulo</td>\n",
       "      <td>40</td>\n",
       "      <td>1</td>\n",
       "      <td>1</td>\n",
       "      <td>1</td>\n",
       "      <td>4.0</td>\n",
       "      <td>acept</td>\n",
       "      <td>furnished</td>\n",
       "      <td>915</td>\n",
       "      <td>5000</td>\n",
       "      <td>115</td>\n",
       "      <td>36</td>\n",
       "      <td>6066</td>\n",
       "      <td>151.650000</td>\n",
       "    </tr>\n",
       "    <tr>\n",
       "      <th>9276</th>\n",
       "      <td>São Paulo</td>\n",
       "      <td>34</td>\n",
       "      <td>1</td>\n",
       "      <td>1</td>\n",
       "      <td>1</td>\n",
       "      <td>4.0</td>\n",
       "      <td>acept</td>\n",
       "      <td>not furnished</td>\n",
       "      <td>550</td>\n",
       "      <td>3800</td>\n",
       "      <td>109</td>\n",
       "      <td>49</td>\n",
       "      <td>4508</td>\n",
       "      <td>132.588235</td>\n",
       "    </tr>\n",
       "    <tr>\n",
       "      <th>1176</th>\n",
       "      <td>São Paulo</td>\n",
       "      <td>130</td>\n",
       "      <td>3</td>\n",
       "      <td>2</td>\n",
       "      <td>1</td>\n",
       "      <td>2.0</td>\n",
       "      <td>not acept</td>\n",
       "      <td>not furnished</td>\n",
       "      <td>1100</td>\n",
       "      <td>4500</td>\n",
       "      <td>384</td>\n",
       "      <td>58</td>\n",
       "      <td>6042</td>\n",
       "      <td>46.476923</td>\n",
       "    </tr>\n",
       "    <tr>\n",
       "      <th>6500</th>\n",
       "      <td>São Paulo</td>\n",
       "      <td>40</td>\n",
       "      <td>1</td>\n",
       "      <td>1</td>\n",
       "      <td>0</td>\n",
       "      <td>0.0</td>\n",
       "      <td>not acept</td>\n",
       "      <td>not furnished</td>\n",
       "      <td>30</td>\n",
       "      <td>780</td>\n",
       "      <td>17</td>\n",
       "      <td>12</td>\n",
       "      <td>839</td>\n",
       "      <td>20.975000</td>\n",
       "    </tr>\n",
       "    <tr>\n",
       "      <th>5211</th>\n",
       "      <td>São Paulo</td>\n",
       "      <td>114</td>\n",
       "      <td>1</td>\n",
       "      <td>1</td>\n",
       "      <td>1</td>\n",
       "      <td>6.0</td>\n",
       "      <td>acept</td>\n",
       "      <td>not furnished</td>\n",
       "      <td>987</td>\n",
       "      <td>2800</td>\n",
       "      <td>208</td>\n",
       "      <td>36</td>\n",
       "      <td>4031</td>\n",
       "      <td>35.359649</td>\n",
       "    </tr>\n",
       "  </tbody>\n",
       "</table>\n",
       "</div>"
      ],
      "text/plain": [
       "           city  area  rooms  bathroom  parking spaces  floor     animal  \\\n",
       "5448  São Paulo    40      1         1               1    4.0      acept   \n",
       "9276  São Paulo    34      1         1               1    4.0      acept   \n",
       "1176  São Paulo   130      3         2               1    2.0  not acept   \n",
       "6500  São Paulo    40      1         1               0    0.0  not acept   \n",
       "5211  São Paulo   114      1         1               1    6.0      acept   \n",
       "\n",
       "          furniture  hoa (R$)  rent amount (R$)  property tax (R$)  \\\n",
       "5448      furnished       915              5000                115   \n",
       "9276  not furnished       550              3800                109   \n",
       "1176  not furnished      1100              4500                384   \n",
       "6500  not furnished        30               780                 17   \n",
       "5211  not furnished       987              2800                208   \n",
       "\n",
       "      fire insurance (R$)  total (R$)  m² price (R$)  \n",
       "5448                   36        6066     151.650000  \n",
       "9276                   49        4508     132.588235  \n",
       "1176                   58        6042      46.476923  \n",
       "6500                   12         839      20.975000  \n",
       "5211                   36        4031      35.359649  "
      ]
     },
     "execution_count": 15,
     "metadata": {},
     "output_type": "execute_result"
    }
   ],
   "source": [
    "htr_cond.sample(5)"
   ]
  },
  {
   "cell_type": "markdown",
   "metadata": {},
   "source": [
    "Next, we plot the m² price average for each city."
   ]
  },
  {
   "cell_type": "code",
   "execution_count": 16,
   "metadata": {},
   "outputs": [
    {
     "data": {
      "text/plain": [
       "<matplotlib.axes._subplots.AxesSubplot at 0x1885096ddc8>"
      ]
     },
     "execution_count": 16,
     "metadata": {},
     "output_type": "execute_result"
    },
    {
     "data": {
      "image/png": "[encoded data removed]",
      "text/plain": [
       "<Figure size 432x288 with 1 Axes>"
      ]
     },
     "metadata": {
      "needs_background": "light"
     },
     "output_type": "display_data"
    }
   ],
   "source": [
    "sns.barplot(x='m² price (R$)',y='city',data=htr_cond)"
   ]
  },
  {
   "cell_type": "markdown",
   "metadata": {},
   "source": [
    "From this panel, we observe that the m² price ranking is:\n",
    "\n",
    "- 1º São Paulo\n",
    "- 2º Rio de Janeiro\n",
    "- 3º Porto Alegre\n",
    "- 4º Campinas\n",
    "- 5º Belo Horizonte\n",
    "\n",
    "This is quite interesting, because if we take Belo Horizonte, for example, the total price to rent a house there was third most expensive, however, due to the high area of the places, the m² price went down compared to the other cities."
   ]
  },
  {
   "cell_type": "markdown",
   "metadata": {},
   "source": [
    "### Preferences"
   ]
  },
  {
   "cell_type": "markdown",
   "metadata": {},
   "source": [
    "Once we have analyzed the price features and area, lets investigate the other ones, namely:\n",
    "\n",
    "*Numerical*\n",
    "\n",
    "- rooms\n",
    "- bathroom\n",
    "- parking spaces\n",
    "- floor\n",
    "\n",
    "*Categorical*\n",
    "\n",
    "- animal\n",
    "- furniture"
   ]
  },
  {
   "cell_type": "markdown",
   "metadata": {},
   "source": [
    "### Numerical"
   ]
  },
  {
   "cell_type": "markdown",
   "metadata": {},
   "source": [
    "In what follows, we plot the numerical features of the house:"
   ]
  },
  {
   "cell_type": "code",
   "execution_count": 47,
   "metadata": {
    "scrolled": true
   },
   "outputs": [
    {
     "data": {
      "text/plain": [
       "[(0, 35)]"
      ]
     },
     "execution_count": 47,
     "metadata": {},
     "output_type": "execute_result"
    },
    {
     "data": {
      "image/png": "[encoded data removed]",
      "text/plain": [
       "<Figure size 1440x288 with 4 Axes>"
      ]
     },
     "metadata": {
      "needs_background": "light"
     },
     "output_type": "display_data"
    }
   ],
   "source": [
    "fig, ax = plt.subplots(nrows = 1, ncols=4, figsize = (20,4))\n",
    "sns.distplot(htr_cond['rooms'],kde=False,ax=ax[0])\n",
    "sns.distplot(htr_cond['bathroom'],kde=False,ax=ax[1])\n",
    "sns.distplot(htr_cond['parking spaces'],kde=False,ax=ax[2])\n",
    "sns.distplot(htr_cond['floor'],kde=False,ax=ax[3],bins=200)\n",
    "ax[3].set(xlim=(0,35))"
   ]
  },
  {
   "cell_type": "markdown",
   "metadata": {},
   "source": [
    "As we can see, most houses have less than 4 rooms, with a high numer of houses with just 1 room. The numer of bathrooms is usually lower than 4 too. Parking places is usually 1, but the second most frequent cases are houses with no parking places. Considering the floor, we see that most houses are in less than 15 floors, and the dataset has a many houses which are not apartments, since their floor is 0.\n",
    "\n",
    "In summary, we observe that having a house with 2 rooms, 1 bathroom, 1 parking space and on the floor 0 is the most common case."
   ]
  },
  {
   "cell_type": "markdown",
   "metadata": {},
   "source": [
    "### Categorical"
   ]
  },
  {
   "cell_type": "markdown",
   "metadata": {},
   "source": [
    "The categorical features: animal and furniture, are important for many people. People love their animals, and places that not accept them will be removed right away from the list.\n",
    "\n",
    "On the other hand, considering the furniture, many people are moving to another city but are not sure whether or not they will stay longer in the city, students for example. For those people, a furnished place is fundamental.\n",
    "\n",
    "Lets see a few plots."
   ]
  },
  {
   "cell_type": "code",
   "execution_count": 62,
   "metadata": {},
   "outputs": [
    {
     "data": {
      "image/png": "[encoded data removed]",
      "text/plain": [
       "<Figure size 720x288 with 2 Axes>"
      ]
     },
     "metadata": {
      "needs_background": "light"
     },
     "output_type": "display_data"
    }
   ],
   "source": [
    "fig, ax = plt.subplots(nrows = 1, ncols=2, figsize = (10,4))\n",
    "ax[0].hist(htr_cond['animal'])\n",
    "ax[1].hist(htr_cond['furniture'])\n",
    "plt.show()"
   ]
  },
  {
   "cell_type": "markdown",
   "metadata": {},
   "source": [
    "As we can see, most places accept animals, so this seem not to be an issue. However, most places are not furnished, and it might be quite difficult to find a place furnished for a good price."
   ]
  },
  {
   "cell_type": "markdown",
   "metadata": {},
   "source": [
    "<a id='conclusions'></a>\n",
    "\n",
    "## Drawing Conclusions"
   ]
  },
  {
   "cell_type": "markdown",
   "metadata": {},
   "source": [
    "In the present project, we were able to analyze the many features that are relevant for peoplle in the moment they want to rent a house. In the process, we analyzed the statistical description of the features in São Paulo. We saw that the high standard deviation for many features was a indicator of the presence of outliers in our data. Them, we chose the subset of the data which could best represent each city. Then, we analyzed each price feature for each city, comparing them and giving a good picture of the following prices: hoa (homeowners association tax), rent amount, property taz, fire insurance, total price. Also, we compared those values with the area of the houses. However, a new feature was necessary to be created in order to better visualizes and comprehend the data: the m² price. This feature enabled us to undertand which cities had the most higher prices of each m², showing that Belo Horionte, for instance, has the cheapest m² price among all the cities.\n",
    "\n",
    "Later on, we investigated the remaining feature, spliting it into numerical (rooms, bathroom, parking spaces and floor) and categorical (animal and furniture). Within those features we were able to veify which is the most commen kind of house: 2 rooms, 1 bathroom, 1 parking space and on the floor 0, accepts animals, and not furnished.\n",
    "\n",
    "We hope that this project could hel anyone looking to rent a house in those cities, or companies trying to better nderstand the market there."
   ]
  }
 ],
 "metadata": {
  "kernelspec": {
   "display_name": "Python 3",
   "language": "python",
   "name": "python3"
  },
  "language_info": {
   "codemirror_mode": {
    "name": "ipython",
    "version": 3
   },
   "file_extension": ".py",
   "mimetype": "text/x-python",
   "name": "python",
   "nbconvert_exporter": "python",
   "pygments_lexer": "ipython3",
   "version": "3.7.6"
  }
 },
 "nbformat": 4,
 "nbformat_minor": 4
}
